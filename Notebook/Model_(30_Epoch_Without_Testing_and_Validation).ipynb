{
  "cells": [
    {
      "cell_type": "code",
      "execution_count": null,
      "metadata": {
        "id": "BNnWOYj-hovv"
      },
      "outputs": [],
      "source": [
        "import torch\n",
        "import torch.nn as nn\n",
        "import torch.nn.functional as F\n",
        "from torchvision import transforms\n",
        "from torch.utils.data import Dataset, DataLoader\n",
        "import cv2\n",
        "import os\n",
        "from PIL import Image\n",
        "from tqdm import tqdm\n",
        "from google.colab import drive"
      ]
    },
    {
      "cell_type": "code",
      "execution_count": null,
      "metadata": {
        "id": "eS9qGw2lkfyb",
        "colab": {
          "base_uri": "https://localhost:8080/"
        },
        "outputId": "2c6e41b1-7534-402e-9a76-0a0b3e312fe1"
      },
      "outputs": [
        {
          "output_type": "stream",
          "name": "stdout",
          "text": [
            "Mounted at /content/drive\n"
          ]
        }
      ],
      "source": [
        "drive.mount('/content/drive')"
      ]
    },
    {
      "cell_type": "code",
      "execution_count": null,
      "metadata": {
        "id": "SX01_edrhtiu"
      },
      "outputs": [],
      "source": [
        "class DoubleConv(nn.Module):\n",
        "    def __init__(self, in_channels, out_channels):\n",
        "        super().__init__()\n",
        "        self.double_conv = nn.Sequential(\n",
        "            nn.Conv2d(in_channels, out_channels, kernel_size=3, padding=1),\n",
        "            nn.BatchNorm2d(out_channels),\n",
        "            nn.ReLU(inplace=True),\n",
        "            nn.Conv2d(out_channels, out_channels, kernel_size=3, padding=1),\n",
        "            nn.BatchNorm2d(out_channels),\n",
        "            nn.ReLU(inplace=True)\n",
        "        )\n",
        "\n",
        "    def forward(self, x):\n",
        "        return self.double_conv(x)"
      ]
    },
    {
      "cell_type": "code",
      "execution_count": null,
      "metadata": {
        "id": "FXUNUS7Zhy7g"
      },
      "outputs": [],
      "source": [
        "class Down(nn.Module):\n",
        "    def __init__(self, in_channels, out_channels):\n",
        "        super().__init__()\n",
        "        self.maxpool_conv = nn.Sequential(\n",
        "            nn.MaxPool2d(2),\n",
        "            DoubleConv(in_channels, out_channels)\n",
        "        )\n",
        "\n",
        "    def forward(self, x):\n",
        "        return self.maxpool_conv(x)"
      ]
    },
    {
      "cell_type": "code",
      "execution_count": null,
      "metadata": {
        "id": "JA99S5ibh2vQ"
      },
      "outputs": [],
      "source": [
        "class Up(nn.Module):\n",
        "    def __init__(self, in_channels, out_channels, bilinear=True):\n",
        "        super().__init__()\n",
        "\n",
        "        if bilinear:\n",
        "            self.up = nn.Upsample(scale_factor=2, mode='bilinear', align_corners=True)\n",
        "        else:\n",
        "            self.up = nn.ConvTranspose2d(in_channels // 2, in_channels // 2, kernel_size=2, stride=2)\n",
        "\n",
        "        self.conv = DoubleConv(in_channels, out_channels)\n",
        "\n",
        "    def forward(self, x1, x2):\n",
        "        x1 = self.up(x1)\n",
        "        diffY = x2.size()[2] - x1.size()[2]\n",
        "        diffX = x2.size()[3] - x1.size()[3]\n",
        "\n",
        "        x1 = F.pad(x1, [diffX // 2, diffX - diffX // 2,\n",
        "                        diffY // 2, diffY - diffY // 2])\n",
        "        x = torch.cat([x2, x1], dim=1)\n",
        "        return self.conv(x)"
      ]
    },
    {
      "cell_type": "code",
      "execution_count": null,
      "metadata": {
        "id": "n4Db1Chlh4nA"
      },
      "outputs": [],
      "source": [
        "class OutConv(nn.Module):\n",
        "    def __init__(self, in_channels, out_channels):\n",
        "        super(OutConv, self).__init__()\n",
        "        self.conv = nn.Conv2d(in_channels, out_channels, kernel_size=1)\n",
        "\n",
        "    def forward(self, x):\n",
        "        return self.conv(x)"
      ]
    },
    {
      "cell_type": "code",
      "execution_count": null,
      "metadata": {
        "id": "G4A2dvYsh88D"
      },
      "outputs": [],
      "source": [
        "class UNet(nn.Module):\n",
        "    def __init__(self, n_channels, n_classes, bilinear=True):\n",
        "        super(UNet, self).__init__()\n",
        "        self.n_channels = n_channels\n",
        "        self.n_classes = n_classes\n",
        "        self.bilinear = bilinear\n",
        "\n",
        "        self.inc = DoubleConv(n_channels, 64)\n",
        "        self.down1 = Down(64, 128)\n",
        "        self.down2 = Down(128, 256)\n",
        "        self.down3 = Down(256, 512)\n",
        "        factor = 2 if bilinear else 1\n",
        "        self.down4 = Down(512, 1024 // factor)\n",
        "        self.up1 = Up(1024, 512 // factor, bilinear)\n",
        "        self.up2 = Up(512, 256 // factor, bilinear)\n",
        "        self.up3 = Up(256, 128 // factor, bilinear)\n",
        "        self.up4 = Up(128, 64, bilinear)\n",
        "        self.outc = OutConv(64, n_classes)\n",
        "\n",
        "    def forward(self, x):\n",
        "        x1 = self.inc(x)\n",
        "        x2 = self.down1(x1)\n",
        "        x3 = self.down2(x2)\n",
        "        x4 = self.down3(x3)\n",
        "        x5 = self.down4(x4)\n",
        "        x = self.up1(x5, x4)\n",
        "        x = self.up2(x, x3)\n",
        "        x = self.up3(x, x2)\n",
        "        x = self.up4(x, x1)\n",
        "        logits = self.outc(x)\n",
        "        return logits"
      ]
    },
    {
      "cell_type": "code",
      "execution_count": null,
      "metadata": {
        "id": "RNeX2rimiCbw"
      },
      "outputs": [],
      "source": [
        "from sklearn.model_selection import train_test_split\n",
        "import random\n",
        "\n",
        "# Define the dataset\n",
        "class ImageDataset(Dataset):\n",
        "    def __init__(self, image_paths, mask_paths, transform=None):\n",
        "        self.image_paths = image_paths\n",
        "        self.mask_paths = mask_paths\n",
        "        self.transform = transform\n",
        "\n",
        "    def __len__(self):\n",
        "        return len(self.image_paths)\n",
        "\n",
        "    def __getitem__(self, index):\n",
        "        image_path = self.image_paths[index]\n",
        "        mask_path = self.mask_paths[index]\n",
        "\n",
        "        image = Image.open(image_path).convert('RGB')\n",
        "        mask = Image.open(mask_path).convert('L')\n",
        "\n",
        "        if self.transform:\n",
        "            image = self.transform(image)\n",
        "            mask = self.transform(mask)\n",
        "\n",
        "        return image, mask"
      ]
    },
    {
      "cell_type": "code",
      "execution_count": null,
      "metadata": {
        "id": "HWZYKCmprzA7"
      },
      "outputs": [],
      "source": [
        "# Define the dataset\n",
        "class ImageDataset(Dataset):\n",
        "    def __init__(self, data_dir, transform=None):\n",
        "        self.data_dir = data_dir\n",
        "        self.transform = transform\n",
        "        self.image_files = [f for f in os.listdir(data_dir) if f.endswith('.JPG')]\n",
        "        self.mask_files = [f.replace('.JPG', '.png') for f in self.image_files]\n",
        "\n",
        "    def __len__(self):\n",
        "        return len(self.image_files)\n",
        "\n",
        "    def __getitem__(self, index):\n",
        "        image_path = os.path.join(self.data_dir, self.image_files[index])\n",
        "        mask_path = os.path.join(self.data_dir, self.mask_files[index])\n",
        "\n",
        "        image = Image.open(image_path).convert('RGB')\n",
        "        mask = Image.open(mask_path).convert('L')\n",
        "\n",
        "        if self.transform:\n",
        "            image = self.transform(image)\n",
        "            mask = self.transform(mask)\n",
        "\n",
        "        return image, mask\n",
        "\n",
        "transform = transforms.Compose([\n",
        "    transforms.Resize((500, 500)),  # Change the size to (500, 500)\n",
        "    transforms.ToTensor()\n",
        "])\n",
        "\n",
        "# Load the dataset\n",
        "data_dir = \"/content/drive/My Drive/Dataset\"\n",
        "dataset = ImageDataset(data_dir, transform=transform)\n",
        "data_loader = DataLoader(dataset, batch_size=4, shuffle=True)\n",
        "\n",
        "# Define the model, loss function, and optimizer\n",
        "device = torch.device('cuda' if torch.cuda.is_available() else 'cpu')\n",
        "model = UNet(n_channels=3, n_classes=1).to(device)\n",
        "criterion = nn.BCEWithLogitsLoss()\n",
        "optimizer = torch.optim.Adam(model.parameters(), lr=0.001)"
      ]
    },
    {
      "cell_type": "code",
      "execution_count": null,
      "metadata": {
        "id": "n2VqqYMnsDA5"
      },
      "outputs": [],
      "source": [
        "def evaluate_model(model, data_loader, device, criterion):\n",
        "    model.eval()\n",
        "    total_loss = 0\n",
        "    with torch.no_grad():\n",
        "        for inputs, targets in data_loader:\n",
        "            inputs = inputs.to(device)\n",
        "            targets = targets.to(device)\n",
        "            outputs = model(inputs)\n",
        "            loss = criterion(outputs, targets)\n",
        "            total_loss += loss.item()\n",
        "    return total_loss / len(data_loader)"
      ]
    },
    {
      "cell_type": "code",
      "execution_count": null,
      "metadata": {
        "id": "t2PlsrY9g2pn",
        "colab": {
          "base_uri": "https://localhost:8080/"
        },
        "outputId": "2c035000-9f5a-4239-b47f-55b263bae2a4"
      },
      "outputs": [
        {
          "metadata": {
            "tags": null
          },
          "name": "stderr",
          "output_type": "stream",
          "text": [
            "Epoch [1/30]: 100%|██████████| 260/260 [03:05<00:00,  1.40it/s, loss=0.0708]\n"
          ]
        },
        {
          "metadata": {
            "tags": null
          },
          "name": "stdout",
          "output_type": "stream",
          "text": [
            "Epoch [1/30] completed. Loss: 0.0708\n"
          ]
        },
        {
          "metadata": {
            "tags": null
          },
          "name": "stderr",
          "output_type": "stream",
          "text": [
            "Epoch [2/30]: 100%|██████████| 260/260 [03:15<00:00,  1.33it/s, loss=0.00947]\n"
          ]
        },
        {
          "metadata": {
            "tags": null
          },
          "name": "stdout",
          "output_type": "stream",
          "text": [
            "Epoch [2/30] completed. Loss: 0.0095\n"
          ]
        },
        {
          "metadata": {
            "tags": null
          },
          "name": "stderr",
          "output_type": "stream",
          "text": [
            "Epoch [3/30]: 100%|██████████| 260/260 [03:16<00:00,  1.32it/s, loss=0.00514]\n"
          ]
        },
        {
          "metadata": {
            "tags": null
          },
          "name": "stdout",
          "output_type": "stream",
          "text": [
            "Epoch [3/30] completed. Loss: 0.0051\n"
          ]
        },
        {
          "metadata": {
            "tags": null
          },
          "name": "stderr",
          "output_type": "stream",
          "text": [
            "Epoch [4/30]: 100%|██████████| 260/260 [03:16<00:00,  1.32it/s, loss=0.00381]\n"
          ]
        },
        {
          "metadata": {
            "tags": null
          },
          "name": "stdout",
          "output_type": "stream",
          "text": [
            "Epoch [4/30] completed. Loss: 0.0038\n"
          ]
        },
        {
          "metadata": {
            "tags": null
          },
          "name": "stderr",
          "output_type": "stream",
          "text": [
            "Epoch [5/30]: 100%|██████████| 260/260 [03:16<00:00,  1.32it/s, loss=0.00353]\n"
          ]
        },
        {
          "metadata": {
            "tags": null
          },
          "name": "stdout",
          "output_type": "stream",
          "text": [
            "Epoch [5/30] completed. Loss: 0.0035\n"
          ]
        },
        {
          "metadata": {
            "tags": null
          },
          "name": "stderr",
          "output_type": "stream",
          "text": [
            "Epoch [6/30]: 100%|██████████| 260/260 [03:16<00:00,  1.32it/s, loss=0.00316]\n"
          ]
        },
        {
          "metadata": {
            "tags": null
          },
          "name": "stdout",
          "output_type": "stream",
          "text": [
            "Epoch [6/30] completed. Loss: 0.0032\n"
          ]
        },
        {
          "metadata": {
            "tags": null
          },
          "name": "stderr",
          "output_type": "stream",
          "text": [
            "Epoch [7/30]: 100%|██████████| 260/260 [03:16<00:00,  1.32it/s, loss=0.00286]\n"
          ]
        },
        {
          "metadata": {
            "tags": null
          },
          "name": "stdout",
          "output_type": "stream",
          "text": [
            "Epoch [7/30] completed. Loss: 0.0029\n"
          ]
        },
        {
          "metadata": {
            "tags": null
          },
          "name": "stderr",
          "output_type": "stream",
          "text": [
            "Epoch [8/30]: 100%|██████████| 260/260 [03:16<00:00,  1.33it/s, loss=0.00263]\n"
          ]
        },
        {
          "metadata": {
            "tags": null
          },
          "name": "stdout",
          "output_type": "stream",
          "text": [
            "Epoch [8/30] completed. Loss: 0.0026\n"
          ]
        },
        {
          "metadata": {
            "tags": null
          },
          "name": "stderr",
          "output_type": "stream",
          "text": [
            "Epoch [9/30]: 100%|██████████| 260/260 [03:16<00:00,  1.32it/s, loss=0.00244]\n"
          ]
        },
        {
          "metadata": {
            "tags": null
          },
          "name": "stdout",
          "output_type": "stream",
          "text": [
            "Epoch [9/30] completed. Loss: 0.0024\n"
          ]
        },
        {
          "metadata": {
            "tags": null
          },
          "name": "stderr",
          "output_type": "stream",
          "text": [
            "Epoch [10/30]: 100%|██████████| 260/260 [03:16<00:00,  1.32it/s, loss=0.00233]\n"
          ]
        },
        {
          "metadata": {
            "tags": null
          },
          "name": "stdout",
          "output_type": "stream",
          "text": [
            "Epoch [10/30] completed. Loss: 0.0023\n"
          ]
        },
        {
          "metadata": {
            "tags": null
          },
          "name": "stderr",
          "output_type": "stream",
          "text": [
            "Epoch [11/30]: 100%|██████████| 260/260 [03:16<00:00,  1.32it/s, loss=0.00219]\n"
          ]
        },
        {
          "metadata": {
            "tags": null
          },
          "name": "stdout",
          "output_type": "stream",
          "text": [
            "Epoch [11/30] completed. Loss: 0.0022\n"
          ]
        },
        {
          "metadata": {
            "tags": null
          },
          "name": "stderr",
          "output_type": "stream",
          "text": [
            "Epoch [12/30]: 100%|██████████| 260/260 [03:16<00:00,  1.32it/s, loss=0.00221]\n"
          ]
        },
        {
          "metadata": {
            "tags": null
          },
          "name": "stdout",
          "output_type": "stream",
          "text": [
            "Epoch [12/30] completed. Loss: 0.0022\n"
          ]
        },
        {
          "metadata": {
            "tags": null
          },
          "name": "stderr",
          "output_type": "stream",
          "text": [
            "Epoch [13/30]: 100%|██████████| 260/260 [03:16<00:00,  1.32it/s, loss=0.00216]\n"
          ]
        },
        {
          "metadata": {
            "tags": null
          },
          "name": "stdout",
          "output_type": "stream",
          "text": [
            "Epoch [13/30] completed. Loss: 0.0022\n"
          ]
        },
        {
          "metadata": {
            "tags": null
          },
          "name": "stderr",
          "output_type": "stream",
          "text": [
            "Epoch [14/30]: 100%|██████████| 260/260 [03:16<00:00,  1.32it/s, loss=0.00213]\n"
          ]
        },
        {
          "metadata": {
            "tags": null
          },
          "name": "stdout",
          "output_type": "stream",
          "text": [
            "Epoch [14/30] completed. Loss: 0.0021\n"
          ]
        },
        {
          "metadata": {
            "tags": null
          },
          "name": "stderr",
          "output_type": "stream",
          "text": [
            "Epoch [15/30]: 100%|██████████| 260/260 [03:16<00:00,  1.32it/s, loss=0.00211]\n"
          ]
        },
        {
          "metadata": {
            "tags": null
          },
          "name": "stdout",
          "output_type": "stream",
          "text": [
            "Epoch [15/30] completed. Loss: 0.0021\n"
          ]
        },
        {
          "output_type": "stream",
          "name": "stderr",
          "text": [
            "Epoch [16/30]: 100%|██████████| 260/260 [03:16<00:00,  1.32it/s, loss=0.0019]\n"
          ]
        },
        {
          "output_type": "stream",
          "name": "stdout",
          "text": [
            "Epoch [16/30] completed. Loss: 0.0019\n"
          ]
        },
        {
          "output_type": "stream",
          "name": "stderr",
          "text": [
            "Epoch [17/30]: 100%|██████████| 260/260 [03:16<00:00,  1.32it/s, loss=0.00195]\n"
          ]
        },
        {
          "output_type": "stream",
          "name": "stdout",
          "text": [
            "Epoch [17/30] completed. Loss: 0.0020\n"
          ]
        },
        {
          "output_type": "stream",
          "name": "stderr",
          "text": [
            "Epoch [18/30]: 100%|██████████| 260/260 [03:16<00:00,  1.32it/s, loss=0.00195]\n"
          ]
        },
        {
          "output_type": "stream",
          "name": "stdout",
          "text": [
            "Epoch [18/30] completed. Loss: 0.0020\n"
          ]
        },
        {
          "output_type": "stream",
          "name": "stderr",
          "text": [
            "Epoch [19/30]: 100%|██████████| 260/260 [03:16<00:00,  1.32it/s, loss=0.00184]\n"
          ]
        },
        {
          "output_type": "stream",
          "name": "stdout",
          "text": [
            "Epoch [19/30] completed. Loss: 0.0018\n"
          ]
        },
        {
          "output_type": "stream",
          "name": "stderr",
          "text": [
            "Epoch [20/30]: 100%|██████████| 260/260 [03:16<00:00,  1.32it/s, loss=0.00179]\n"
          ]
        },
        {
          "output_type": "stream",
          "name": "stdout",
          "text": [
            "Epoch [20/30] completed. Loss: 0.0018\n"
          ]
        },
        {
          "output_type": "stream",
          "name": "stderr",
          "text": [
            "Epoch [21/30]: 100%|██████████| 260/260 [03:17<00:00,  1.32it/s, loss=0.00183]\n"
          ]
        },
        {
          "output_type": "stream",
          "name": "stdout",
          "text": [
            "Epoch [21/30] completed. Loss: 0.0018\n"
          ]
        },
        {
          "output_type": "stream",
          "name": "stderr",
          "text": [
            "Epoch [22/30]: 100%|██████████| 260/260 [03:16<00:00,  1.32it/s, loss=0.0018]\n"
          ]
        },
        {
          "output_type": "stream",
          "name": "stdout",
          "text": [
            "Epoch [22/30] completed. Loss: 0.0018\n"
          ]
        },
        {
          "output_type": "stream",
          "name": "stderr",
          "text": [
            "Epoch [23/30]: 100%|██████████| 260/260 [03:16<00:00,  1.32it/s, loss=0.00173]\n"
          ]
        },
        {
          "output_type": "stream",
          "name": "stdout",
          "text": [
            "Epoch [23/30] completed. Loss: 0.0017\n"
          ]
        },
        {
          "output_type": "stream",
          "name": "stderr",
          "text": [
            "Epoch [24/30]: 100%|██████████| 260/260 [03:17<00:00,  1.32it/s, loss=0.00173]\n"
          ]
        },
        {
          "output_type": "stream",
          "name": "stdout",
          "text": [
            "Epoch [24/30] completed. Loss: 0.0017\n"
          ]
        },
        {
          "output_type": "stream",
          "name": "stderr",
          "text": [
            "Epoch [25/30]: 100%|██████████| 260/260 [03:16<00:00,  1.32it/s, loss=0.00181]\n"
          ]
        },
        {
          "output_type": "stream",
          "name": "stdout",
          "text": [
            "Epoch [25/30] completed. Loss: 0.0018\n"
          ]
        },
        {
          "output_type": "stream",
          "name": "stderr",
          "text": [
            "Epoch [26/30]: 100%|██████████| 260/260 [03:16<00:00,  1.32it/s, loss=0.00167]\n"
          ]
        },
        {
          "output_type": "stream",
          "name": "stdout",
          "text": [
            "Epoch [26/30] completed. Loss: 0.0017\n"
          ]
        },
        {
          "output_type": "stream",
          "name": "stderr",
          "text": [
            "Epoch [27/30]: 100%|██████████| 260/260 [03:16<00:00,  1.32it/s, loss=0.00163]\n"
          ]
        },
        {
          "output_type": "stream",
          "name": "stdout",
          "text": [
            "Epoch [27/30] completed. Loss: 0.0016\n"
          ]
        },
        {
          "output_type": "stream",
          "name": "stderr",
          "text": [
            "Epoch [28/30]: 100%|██████████| 260/260 [03:16<00:00,  1.32it/s, loss=0.00162]\n"
          ]
        },
        {
          "output_type": "stream",
          "name": "stdout",
          "text": [
            "Epoch [28/30] completed. Loss: 0.0016\n"
          ]
        },
        {
          "output_type": "stream",
          "name": "stderr",
          "text": [
            "Epoch [29/30]: 100%|██████████| 260/260 [03:16<00:00,  1.32it/s, loss=0.00159]\n"
          ]
        },
        {
          "output_type": "stream",
          "name": "stdout",
          "text": [
            "Epoch [29/30] completed. Loss: 0.0016\n"
          ]
        },
        {
          "output_type": "stream",
          "name": "stderr",
          "text": [
            "Epoch [30/30]: 100%|██████████| 260/260 [03:17<00:00,  1.32it/s, loss=0.00157]"
          ]
        },
        {
          "output_type": "stream",
          "name": "stdout",
          "text": [
            "Epoch [30/30] completed. Loss: 0.0016\n"
          ]
        },
        {
          "output_type": "stream",
          "name": "stderr",
          "text": [
            "\n"
          ]
        }
      ],
      "source": [
        "# Train the model\n",
        "num_epochs = 30\n",
        "for epoch in range(num_epochs):\n",
        "    running_loss = 0.0\n",
        "    progress_bar = tqdm(data_loader, total=len(data_loader), desc=f'Epoch [{epoch+1}/{num_epochs}]')\n",
        "    for inputs, targets in progress_bar:\n",
        "        inputs = inputs.to(device)\n",
        "        targets = targets.to(device)\n",
        "\n",
        "        optimizer.zero_grad()\n",
        "        outputs = model(inputs)\n",
        "        loss = criterion(outputs, targets)\n",
        "        loss.backward()\n",
        "        optimizer.step()\n",
        "\n",
        "        running_loss += loss.item()\n",
        "        progress_bar.set_postfix(loss=running_loss / (progress_bar.n + 1))\n",
        "\n",
        "    print(f'Epoch [{epoch+1}/{num_epochs}] completed. Loss: {running_loss/len(data_loader):.4f}')"
      ]
    },
    {
      "cell_type": "code",
      "execution_count": null,
      "metadata": {
        "id": "ySKguA7lmNzZ"
      },
      "outputs": [],
      "source": [
        "# Save the trained model\n",
        "torch.save(model.state_dict(), '/content/drive/My Drive/Dataset/Model/Model (30 Epoch Without Validation).pth')"
      ]
    },
    {
      "cell_type": "code",
      "execution_count": null,
      "metadata": {
        "id": "Nn1utycBmLSm"
      },
      "outputs": [],
      "source": [
        "import numpy as np\n",
        "def adaptive_threshold(input_image, true_label):\n",
        "    model.eval()\n",
        "    with torch.no_grad():\n",
        "        input_tensor = transform(input_image).unsqueeze(0)  # Added unsqueeze(0)\n",
        "        start_time = time.time()\n",
        "        output = model(input_tensor)\n",
        "        end_time = time.time()\n",
        "        response_time = end_time - start_time\n",
        "        output = torch.sigmoid(output).squeeze().cpu().numpy()\n",
        "        output = (output > 0.5).astype(np.uint8) * 255\n",
        "        predicted_label = np.argmax(output)\n",
        "        return output, response_time, predicted_label"
      ]
    },
    {
      "cell_type": "code",
      "source": [
        "model = UNet(n_channels=3, n_classes=1)"
      ],
      "metadata": {
        "id": "HIrEx6IkXo1a"
      },
      "execution_count": null,
      "outputs": []
    },
    {
      "cell_type": "code",
      "source": [
        "device = torch.device('cuda' if torch.cuda.is_available() else 'cpu')\n",
        "model.load_state_dict(torch.load('/content/drive/My Drive/Dataset/Model/Model (30 Epoch Without Validation).pth', map_location=device))\n",
        "model.eval()"
      ],
      "metadata": {
        "id": "DXsa8ORdYIDK"
      },
      "execution_count": null,
      "outputs": []
    },
    {
      "cell_type": "code",
      "source": [
        "import numpy as np\n",
        "def adaptive_threshold_test(input_image):\n",
        "    model.eval()\n",
        "    with torch.no_grad():\n",
        "        input_tensor = transform(input_image).unsqueeze(0) # Added unsqueeze(0)\n",
        "        output = model(input_tensor)\n",
        "        output = torch.sigmoid(output).squeeze().cpu().numpy()\n",
        "        output = (output > 0.5).astype(np.uint8) * 255\n",
        "        return output"
      ],
      "metadata": {
        "id": "wUoVjUnjnpQI"
      },
      "execution_count": null,
      "outputs": []
    },
    {
      "cell_type": "code",
      "source": [
        "import matplotlib.pyplot as plt\n",
        "import time\n",
        "\n",
        "# Example usage\n",
        "input_image = Image.open('/content/drive/My Drive/Dataset/Raw for Testing/20_0.JPG')\n",
        "true_label = Image.open('/content/drive/My Drive/Dataset/Raw for Testing/20_0.png')\n",
        "output_image, response_time, predicted_label = adaptive_threshold(input_image, true_label)\n",
        "print(f\"Response time: {response_time} seconds\")"
      ],
      "metadata": {
        "id": "BSXh8FZhYSap",
        "colab": {
          "base_uri": "https://localhost:8080/"
        },
        "outputId": "e62160b7-39d4-45f4-94cf-0a9157cfbd3f"
      },
      "execution_count": null,
      "outputs": [
        {
          "output_type": "stream",
          "name": "stdout",
          "text": [
            "Response time: 5.029985427856445 seconds\n"
          ]
        }
      ]
    },
    {
      "cell_type": "code",
      "source": [
        "import matplotlib.pyplot as plt\n",
        "# Example usage\n",
        "input_image = Image.open('/content/drive/My Drive/Dataset/Raw for Testing/20_1.JPG')\n",
        "output_image = adaptive_threshold_test(input_image)\n",
        "plt.imshow(output_image, cmap='gray')\n",
        "plt.show()"
      ],
      "metadata": {
        "id": "z20YBwbCnDk_",
        "colab": {
          "base_uri": "https://localhost:8080/",
          "height": 435
        },
        "outputId": "ecdcff77-a767-4ecb-d972-53bb474e3ded"
      },
      "execution_count": null,
      "outputs": [
        {
          "output_type": "display_data",
          "data": {
            "text/plain": [
              "<Figure size 640x480 with 1 Axes>"
            ],
            "image/png": "[encoded data removed]"
          },
          "metadata": {}
        }
      ]
    },
    {
      "cell_type": "code",
      "source": [
        "# Define the transformation for the test data\n",
        "test_transform = transforms.Compose([\n",
        "    transforms.Resize((500, 500)),\n",
        "    transforms.ToTensor()\n",
        "])"
      ],
      "metadata": {
        "id": "V4AXCFrE0ZAk"
      },
      "execution_count": null,
      "outputs": []
    },
    {
      "cell_type": "code",
      "source": [
        "# Define the pixel accuracy function\n",
        "def pixel_accuracy(output, target):\n",
        "    output = output.sigmoid().data.cpu().numpy()\n",
        "    output = (output > 0.5).astype(np.uint8)\n",
        "    target = target.data.cpu().numpy()\n",
        "\n",
        "    correct = (output == target).sum()\n",
        "    total = np.product(target.shape)\n",
        "\n",
        "    return correct / total"
      ],
      "metadata": {
        "id": "6ZtbYS8dxcMx"
      },
      "execution_count": null,
      "outputs": []
    },
    {
      "cell_type": "code",
      "source": [
        "from torchvision import transforms\n",
        "# Modified adaptive_threshold_test function\n",
        "def adaptive_threshold_test_1(input_image, ground_truth_mask):\n",
        "    with torch.no_grad():\n",
        "        input_tensor = test_transform(input_image).unsqueeze(0)\n",
        "        target_tensor = test_transform(ground_truth_mask).unsqueeze(0)\n",
        "\n",
        "        output = model(input_tensor)\n",
        "\n",
        "        return output, target_tensor"
      ],
      "metadata": {
        "id": "ZsYGNfNdzubv"
      },
      "execution_count": null,
      "outputs": []
    },
    {
      "cell_type": "code",
      "source": [
        "# Example usage\n",
        "input_image = Image.open('/content/drive/My Drive/Dataset/Raw for Testing/20_1.JPG')\n",
        "ground_truth_mask = Image.open('/content/drive/My Drive/Dataset/Raw for Testing/20_1.png')\n",
        "\n",
        "output, target = adaptive_threshold_test_1(input_image, ground_truth_mask)\n",
        "accuracy = pixel_accuracy(output, target)\n",
        "\n",
        "print(f\"Pixel Accuracy: {accuracy:.4f}\")"
      ],
      "metadata": {
        "colab": {
          "base_uri": "https://localhost:8080/"
        },
        "id": "W8sq7NC1zyxU",
        "outputId": "25dcd3a2-a084-412f-c2c7-37536e962b25"
      },
      "execution_count": null,
      "outputs": [
        {
          "output_type": "stream",
          "name": "stdout",
          "text": [
            "Pixel Accuracy: 0.9995\n"
          ]
        },
        {
          "output_type": "stream",
          "name": "stderr",
          "text": [
            "<ipython-input-26-41cf13ad5c32>:6: DeprecationWarning: `product` is deprecated as of NumPy 1.25.0, and will be removed in NumPy 2.0. Please use `prod` instead.\n",
            "  accuracy = pixel_accuracy(output, target)\n"
          ]
        }
      ]
    }
  ],
  "metadata": {
    "colab": {
      "provenance": [],
      "gpuType": "T4"
    },
    "kernelspec": {
      "display_name": "Python 3",
      "name": "python3"
    },
    "language_info": {
      "name": "python"
    },
    "accelerator": "GPU"
  },
  "nbformat": 4,
  "nbformat_minor": 0
}