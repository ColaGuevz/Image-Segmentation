{
  "cells": [
    {
      "cell_type": "code",
      "execution_count": null,
      "metadata": {
        "id": "BNnWOYj-hovv"
      },
      "outputs": [],
      "source": [
        "import torch\n",
        "import torch.nn as nn\n",
        "import torch.nn.functional as F\n",
        "from torchvision import transforms\n",
        "from torch.utils.data import Dataset, DataLoader\n",
        "import cv2\n",
        "import os\n",
        "from PIL import Image\n",
        "from tqdm import tqdm\n",
        "from google.colab import drive"
      ]
    },
    {
      "cell_type": "code",
      "execution_count": null,
      "metadata": {
        "id": "eS9qGw2lkfyb",
        "colab": {
          "base_uri": "https://localhost:8080/"
        },
        "outputId": "850486f7-70ad-46eb-a4e5-1fc90d3b5677"
      },
      "outputs": [
        {
          "output_type": "stream",
          "name": "stdout",
          "text": [
            "Drive already mounted at /content/drive; to attempt to forcibly remount, call drive.mount(\"/content/drive\", force_remount=True).\n"
          ]
        }
      ],
      "source": [
        "drive.mount('/content/drive')"
      ]
    },
    {
      "cell_type": "code",
      "execution_count": null,
      "metadata": {
        "id": "SX01_edrhtiu"
      },
      "outputs": [],
      "source": [
        "class DoubleConv(nn.Module):\n",
        "    def __init__(self, in_channels, out_channels):\n",
        "        super().__init__()\n",
        "        self.double_conv = nn.Sequential(\n",
        "            nn.Conv2d(in_channels, out_channels, kernel_size=3, padding=1),\n",
        "            nn.BatchNorm2d(out_channels),\n",
        "            nn.ReLU(inplace=True),\n",
        "            nn.Conv2d(out_channels, out_channels, kernel_size=3, padding=1),\n",
        "            nn.BatchNorm2d(out_channels),\n",
        "            nn.ReLU(inplace=True)\n",
        "        )\n",
        "\n",
        "    def forward(self, x):\n",
        "        return self.double_conv(x)"
      ]
    },
    {
      "cell_type": "code",
      "execution_count": null,
      "metadata": {
        "id": "FXUNUS7Zhy7g"
      },
      "outputs": [],
      "source": [
        "class Down(nn.Module):\n",
        "    def __init__(self, in_channels, out_channels):\n",
        "        super().__init__()\n",
        "        self.maxpool_conv = nn.Sequential(\n",
        "            nn.MaxPool2d(2),\n",
        "            DoubleConv(in_channels, out_channels)\n",
        "        )\n",
        "\n",
        "    def forward(self, x):\n",
        "        return self.maxpool_conv(x)"
      ]
    },
    {
      "cell_type": "code",
      "execution_count": null,
      "metadata": {
        "id": "JA99S5ibh2vQ"
      },
      "outputs": [],
      "source": [
        "class Up(nn.Module):\n",
        "    def __init__(self, in_channels, out_channels, bilinear=True):\n",
        "        super().__init__()\n",
        "\n",
        "        if bilinear:\n",
        "            self.up = nn.Upsample(scale_factor=2, mode='bilinear', align_corners=True)\n",
        "        else:\n",
        "            self.up = nn.ConvTranspose2d(in_channels // 2, in_channels // 2, kernel_size=2, stride=2)\n",
        "\n",
        "        self.conv = DoubleConv(in_channels, out_channels)\n",
        "\n",
        "    def forward(self, x1, x2):\n",
        "        x1 = self.up(x1)\n",
        "        diffY = x2.size()[2] - x1.size()[2]\n",
        "        diffX = x2.size()[3] - x1.size()[3]\n",
        "\n",
        "        x1 = F.pad(x1, [diffX // 2, diffX - diffX // 2,\n",
        "                        diffY // 2, diffY - diffY // 2])\n",
        "        x = torch.cat([x2, x1], dim=1)\n",
        "        return self.conv(x)"
      ]
    },
    {
      "cell_type": "code",
      "execution_count": null,
      "metadata": {
        "id": "n4Db1Chlh4nA"
      },
      "outputs": [],
      "source": [
        "class OutConv(nn.Module):\n",
        "    def __init__(self, in_channels, out_channels):\n",
        "        super(OutConv, self).__init__()\n",
        "        self.conv = nn.Conv2d(in_channels, out_channels, kernel_size=1)\n",
        "\n",
        "    def forward(self, x):\n",
        "        return self.conv(x)"
      ]
    },
    {
      "cell_type": "code",
      "execution_count": null,
      "metadata": {
        "id": "G4A2dvYsh88D"
      },
      "outputs": [],
      "source": [
        "class UNet(nn.Module):\n",
        "    def __init__(self, n_channels, n_classes, bilinear=True):\n",
        "        super(UNet, self).__init__()\n",
        "        self.n_channels = n_channels\n",
        "        self.n_classes = n_classes\n",
        "        self.bilinear = bilinear\n",
        "\n",
        "        self.inc = DoubleConv(n_channels, 64)\n",
        "        self.down1 = Down(64, 128)\n",
        "        self.down2 = Down(128, 256)\n",
        "        self.down3 = Down(256, 512)\n",
        "        factor = 2 if bilinear else 1\n",
        "        self.down4 = Down(512, 1024 // factor)\n",
        "        self.up1 = Up(1024, 512 // factor, bilinear)\n",
        "        self.up2 = Up(512, 256 // factor, bilinear)\n",
        "        self.up3 = Up(256, 128 // factor, bilinear)\n",
        "        self.up4 = Up(128, 64, bilinear)\n",
        "        self.outc = OutConv(64, n_classes)\n",
        "\n",
        "    def forward(self, x):\n",
        "        x1 = self.inc(x)\n",
        "        x2 = self.down1(x1)\n",
        "        x3 = self.down2(x2)\n",
        "        x4 = self.down3(x3)\n",
        "        x5 = self.down4(x4)\n",
        "        x = self.up1(x5, x4)\n",
        "        x = self.up2(x, x3)\n",
        "        x = self.up3(x, x2)\n",
        "        x = self.up4(x, x1)\n",
        "        logits = self.outc(x)\n",
        "        return logits"
      ]
    },
    {
      "cell_type": "code",
      "execution_count": null,
      "metadata": {
        "id": "RNeX2rimiCbw"
      },
      "outputs": [],
      "source": [
        "from sklearn.model_selection import train_test_split\n",
        "import random\n",
        "\n",
        "# Define the dataset\n",
        "class ImageDataset(Dataset):\n",
        "    def __init__(self, image_paths, mask_paths, transform=None):\n",
        "        self.image_paths = image_paths\n",
        "        self.mask_paths = mask_paths\n",
        "        self.transform = transform\n",
        "\n",
        "    def __len__(self):\n",
        "        return len(self.image_paths)\n",
        "\n",
        "    def __getitem__(self, index):\n",
        "        image_path = self.image_paths[index]\n",
        "        mask_path = self.mask_paths[index]\n",
        "\n",
        "        image = Image.open(image_path).convert('RGB')\n",
        "        mask = Image.open(mask_path).convert('L')\n",
        "\n",
        "        if self.transform:\n",
        "            image = self.transform(image)\n",
        "            mask = self.transform(mask)\n",
        "\n",
        "        return image, mask"
      ]
    },
    {
      "cell_type": "code",
      "execution_count": null,
      "metadata": {
        "id": "HWZYKCmprzA7"
      },
      "outputs": [],
      "source": [
        "# Get the list of image and mask file paths\n",
        "data_dir = \"/content/drive/My Drive/Dataset/Partitioned\"\n",
        "train_dir = os.path.join(data_dir, 'Training')\n",
        "val_dir = os.path.join(data_dir, 'Validation')\n",
        "test_dir = os.path.join(data_dir, 'Testing')\n",
        "\n",
        "train_image_files = [os.path.join(train_dir, f) for f in os.listdir(train_dir) if f.endswith('.JPG')]\n",
        "train_mask_files = [os.path.join(train_dir, f.replace('.JPG', '.png')) for f in os.listdir(train_dir) if f.endswith('.JPG')]\n",
        "\n",
        "val_image_files = [os.path.join(val_dir, f) for f in os.listdir(val_dir) if f.endswith('.JPG')]\n",
        "val_mask_files = [os.path.join(val_dir, f.replace('.JPG', '.png')) for f in os.listdir(val_dir) if f.endswith('.JPG')]\n",
        "\n",
        "test_image_files = [os.path.join(test_dir, f) for f in os.listdir(test_dir) if f.endswith('.JPG')]\n",
        "test_mask_files = [os.path.join(test_dir, f.replace('.JPG', '.png')) for f in os.listdir(test_dir) if f.endswith('.JPG')]\n",
        "\n",
        "transform = transforms.Compose([\n",
        "    transforms.Resize((500, 500)),\n",
        "    transforms.ToTensor()\n",
        "])\n",
        "\n",
        "# Create the datasets\n",
        "train_dataset = ImageDataset(train_image_files, train_mask_files, transform=transform)\n",
        "val_dataset = ImageDataset(val_image_files, val_mask_files, transform=transform)\n",
        "test_dataset = ImageDataset(test_image_files, test_mask_files, transform=transform)\n",
        "\n",
        "# Create the data loaders\n",
        "train_loader = DataLoader(train_dataset, batch_size=4, shuffle=True)\n",
        "val_loader = DataLoader(val_dataset, batch_size=4, shuffle=False)\n",
        "test_loader = DataLoader(test_dataset, batch_size=4, shuffle=False)\n",
        "\n",
        "# Define the model, loss function, and optimizer\n",
        "device = torch.device('cuda' if torch.cuda.is_available() else 'cpu')\n",
        "model = UNet(n_channels=3, n_classes=1).to(device)\n",
        "criterion = nn.BCEWithLogitsLoss()\n",
        "optimizer = torch.optim.Adam(model.parameters(), lr=0.001)"
      ]
    },
    {
      "cell_type": "code",
      "execution_count": null,
      "metadata": {
        "id": "n2VqqYMnsDA5"
      },
      "outputs": [],
      "source": [
        "def evaluate_model(model, data_loader, device, criterion):\n",
        "    model.eval()\n",
        "    total_loss = 0\n",
        "    with torch.no_grad():\n",
        "        for inputs, targets in data_loader:\n",
        "            inputs = inputs.to(device)\n",
        "            targets = targets.to(device)\n",
        "            outputs = model(inputs)\n",
        "            loss = criterion(outputs, targets)\n",
        "            total_loss += loss.item()\n",
        "    return total_loss / len(data_loader)"
      ]
    },
    {
      "cell_type": "code",
      "execution_count": null,
      "metadata": {
        "id": "t2PlsrY9g2pn",
        "colab": {
          "base_uri": "https://localhost:8080/"
        },
        "outputId": "c97ac3eb-5bb7-4500-ea6b-6d2dd361d5d1"
      },
      "outputs": [
        {
          "metadata": {
            "tags": null
          },
          "name": "stderr",
          "output_type": "stream",
          "text": [
            "Epoch [1/30]: 100%|██████████| 160/160 [01:47<00:00,  1.49it/s, loss=0.00455]\n"
          ]
        },
        {
          "metadata": {
            "tags": null
          },
          "name": "stdout",
          "output_type": "stream",
          "text": [
            "Epoch [1/30] completed. Train Loss: 0.0045, Validation Loss: 0.0023\n"
          ]
        },
        {
          "metadata": {
            "tags": null
          },
          "name": "stderr",
          "output_type": "stream",
          "text": [
            "Epoch [2/30]: 100%|██████████| 160/160 [01:47<00:00,  1.48it/s, loss=0.00451]\n"
          ]
        },
        {
          "metadata": {
            "tags": null
          },
          "name": "stdout",
          "output_type": "stream",
          "text": [
            "Epoch [2/30] completed. Train Loss: 0.0045, Validation Loss: 0.0027\n"
          ]
        },
        {
          "metadata": {
            "tags": null
          },
          "name": "stderr",
          "output_type": "stream",
          "text": [
            "Epoch [3/30]: 100%|██████████| 160/160 [01:47<00:00,  1.48it/s, loss=0.00427]\n"
          ]
        },
        {
          "metadata": {
            "tags": null
          },
          "name": "stdout",
          "output_type": "stream",
          "text": [
            "Epoch [3/30] completed. Train Loss: 0.0043, Validation Loss: 0.0041\n"
          ]
        },
        {
          "metadata": {
            "tags": null
          },
          "name": "stderr",
          "output_type": "stream",
          "text": [
            "Epoch [4/30]: 100%|██████████| 160/160 [01:47<00:00,  1.48it/s, loss=0.00421]\n"
          ]
        },
        {
          "metadata": {
            "tags": null
          },
          "name": "stdout",
          "output_type": "stream",
          "text": [
            "Epoch [4/30] completed. Train Loss: 0.0042, Validation Loss: 0.0022\n"
          ]
        },
        {
          "metadata": {
            "tags": null
          },
          "name": "stderr",
          "output_type": "stream",
          "text": [
            "Epoch [5/30]: 100%|██████████| 160/160 [01:47<00:00,  1.48it/s, loss=0.004]\n"
          ]
        },
        {
          "metadata": {
            "tags": null
          },
          "name": "stdout",
          "output_type": "stream",
          "text": [
            "Epoch [5/30] completed. Train Loss: 0.0040, Validation Loss: 0.0021\n"
          ]
        },
        {
          "metadata": {
            "tags": null
          },
          "name": "stderr",
          "output_type": "stream",
          "text": [
            "Epoch [6/30]: 100%|██████████| 160/160 [01:47<00:00,  1.49it/s, loss=0.00388]\n"
          ]
        },
        {
          "metadata": {
            "tags": null
          },
          "name": "stdout",
          "output_type": "stream",
          "text": [
            "Epoch [6/30] completed. Train Loss: 0.0039, Validation Loss: 0.0027\n"
          ]
        },
        {
          "metadata": {
            "tags": null
          },
          "name": "stderr",
          "output_type": "stream",
          "text": [
            "Epoch [7/30]: 100%|██████████| 160/160 [01:47<00:00,  1.48it/s, loss=0.00361]\n"
          ]
        },
        {
          "metadata": {
            "tags": null
          },
          "name": "stdout",
          "output_type": "stream",
          "text": [
            "Epoch [7/30] completed. Train Loss: 0.0036, Validation Loss: 0.0017\n"
          ]
        },
        {
          "metadata": {
            "tags": null
          },
          "name": "stderr",
          "output_type": "stream",
          "text": [
            "Epoch [8/30]: 100%|██████████| 160/160 [01:47<00:00,  1.48it/s, loss=0.00375]\n"
          ]
        },
        {
          "metadata": {
            "tags": null
          },
          "name": "stdout",
          "output_type": "stream",
          "text": [
            "Epoch [8/30] completed. Train Loss: 0.0038, Validation Loss: 0.0021\n"
          ]
        },
        {
          "metadata": {
            "tags": null
          },
          "name": "stderr",
          "output_type": "stream",
          "text": [
            "Epoch [9/30]: 100%|██████████| 160/160 [01:47<00:00,  1.48it/s, loss=0.00348]\n"
          ]
        },
        {
          "metadata": {
            "tags": null
          },
          "name": "stdout",
          "output_type": "stream",
          "text": [
            "Epoch [9/30] completed. Train Loss: 0.0035, Validation Loss: 0.0020\n"
          ]
        },
        {
          "metadata": {
            "tags": null
          },
          "name": "stderr",
          "output_type": "stream",
          "text": [
            "Epoch [10/30]: 100%|██████████| 160/160 [01:47<00:00,  1.49it/s, loss=0.00345]\n"
          ]
        },
        {
          "metadata": {
            "tags": null
          },
          "name": "stdout",
          "output_type": "stream",
          "text": [
            "Epoch [10/30] completed. Train Loss: 0.0035, Validation Loss: 0.0020\n"
          ]
        },
        {
          "metadata": {
            "tags": null
          },
          "name": "stderr",
          "output_type": "stream",
          "text": [
            "Epoch [11/30]: 100%|██████████| 160/160 [01:47<00:00,  1.48it/s, loss=0.00334]\n"
          ]
        },
        {
          "metadata": {
            "tags": null
          },
          "name": "stdout",
          "output_type": "stream",
          "text": [
            "Epoch [11/30] completed. Train Loss: 0.0033, Validation Loss: 0.0022\n"
          ]
        },
        {
          "metadata": {
            "tags": null
          },
          "name": "stderr",
          "output_type": "stream",
          "text": [
            "Epoch [12/30]: 100%|██████████| 160/160 [01:47<00:00,  1.48it/s, loss=0.00316]\n"
          ]
        },
        {
          "metadata": {
            "tags": null
          },
          "name": "stdout",
          "output_type": "stream",
          "text": [
            "Epoch [12/30] completed. Train Loss: 0.0032, Validation Loss: 0.0020\n"
          ]
        },
        {
          "metadata": {
            "tags": null
          },
          "name": "stderr",
          "output_type": "stream",
          "text": [
            "Epoch [13/30]: 100%|██████████| 160/160 [01:47<00:00,  1.48it/s, loss=0.00315]\n"
          ]
        },
        {
          "metadata": {
            "tags": null
          },
          "name": "stdout",
          "output_type": "stream",
          "text": [
            "Epoch [13/30] completed. Train Loss: 0.0032, Validation Loss: 0.0019\n"
          ]
        },
        {
          "metadata": {
            "tags": null
          },
          "name": "stderr",
          "output_type": "stream",
          "text": [
            "Epoch [14/30]: 100%|██████████| 160/160 [01:47<00:00,  1.48it/s, loss=0.00307]\n"
          ]
        },
        {
          "metadata": {
            "tags": null
          },
          "name": "stdout",
          "output_type": "stream",
          "text": [
            "Epoch [14/30] completed. Train Loss: 0.0031, Validation Loss: 0.0018\n"
          ]
        },
        {
          "metadata": {
            "tags": null
          },
          "name": "stderr",
          "output_type": "stream",
          "text": [
            "Epoch [15/30]: 100%|██████████| 160/160 [01:47<00:00,  1.48it/s, loss=0.00298]\n"
          ]
        },
        {
          "metadata": {
            "tags": null
          },
          "name": "stdout",
          "output_type": "stream",
          "text": [
            "Epoch [15/30] completed. Train Loss: 0.0030, Validation Loss: 0.0017\n"
          ]
        },
        {
          "metadata": {
            "tags": null
          },
          "name": "stderr",
          "output_type": "stream",
          "text": [
            "Epoch [16/30]: 100%|██████████| 160/160 [01:47<00:00,  1.49it/s, loss=0.003]\n"
          ]
        },
        {
          "metadata": {
            "tags": null
          },
          "name": "stdout",
          "output_type": "stream",
          "text": [
            "Epoch [16/30] completed. Train Loss: 0.0030, Validation Loss: 0.0017\n"
          ]
        },
        {
          "metadata": {
            "tags": null
          },
          "name": "stderr",
          "output_type": "stream",
          "text": [
            "Epoch [17/30]: 100%|██████████| 160/160 [01:47<00:00,  1.49it/s, loss=0.00292]\n"
          ]
        },
        {
          "metadata": {
            "tags": null
          },
          "name": "stdout",
          "output_type": "stream",
          "text": [
            "Epoch [17/30] completed. Train Loss: 0.0029, Validation Loss: 0.0019\n"
          ]
        },
        {
          "metadata": {
            "tags": null
          },
          "name": "stderr",
          "output_type": "stream",
          "text": [
            "Epoch [18/30]: 100%|██████████| 160/160 [01:47<00:00,  1.49it/s, loss=0.00289]\n"
          ]
        },
        {
          "metadata": {
            "tags": null
          },
          "name": "stdout",
          "output_type": "stream",
          "text": [
            "Epoch [18/30] completed. Train Loss: 0.0029, Validation Loss: 0.0017\n"
          ]
        },
        {
          "metadata": {
            "tags": null
          },
          "name": "stderr",
          "output_type": "stream",
          "text": [
            "Epoch [19/30]: 100%|██████████| 160/160 [01:47<00:00,  1.49it/s, loss=0.00281]\n"
          ]
        },
        {
          "metadata": {
            "tags": null
          },
          "name": "stdout",
          "output_type": "stream",
          "text": [
            "Epoch [19/30] completed. Train Loss: 0.0028, Validation Loss: 0.0016\n"
          ]
        },
        {
          "metadata": {
            "tags": null
          },
          "name": "stderr",
          "output_type": "stream",
          "text": [
            "Epoch [20/30]: 100%|██████████| 160/160 [01:47<00:00,  1.49it/s, loss=0.00283]\n"
          ]
        },
        {
          "metadata": {
            "tags": null
          },
          "name": "stdout",
          "output_type": "stream",
          "text": [
            "Epoch [20/30] completed. Train Loss: 0.0028, Validation Loss: 0.0021\n"
          ]
        },
        {
          "metadata": {
            "tags": null
          },
          "name": "stderr",
          "output_type": "stream",
          "text": [
            "Epoch [21/30]: 100%|██████████| 160/160 [01:47<00:00,  1.48it/s, loss=0.00266]\n"
          ]
        },
        {
          "metadata": {
            "tags": null
          },
          "name": "stdout",
          "output_type": "stream",
          "text": [
            "Epoch [21/30] completed. Train Loss: 0.0027, Validation Loss: 0.0019\n"
          ]
        },
        {
          "metadata": {
            "tags": null
          },
          "name": "stderr",
          "output_type": "stream",
          "text": [
            "Epoch [22/30]: 100%|██████████| 160/160 [01:48<00:00,  1.48it/s, loss=0.00258]\n"
          ]
        },
        {
          "metadata": {
            "tags": null
          },
          "name": "stdout",
          "output_type": "stream",
          "text": [
            "Epoch [22/30] completed. Train Loss: 0.0026, Validation Loss: 0.0021\n"
          ]
        },
        {
          "metadata": {
            "tags": null
          },
          "name": "stderr",
          "output_type": "stream",
          "text": [
            "Epoch [23/30]: 100%|██████████| 160/160 [01:47<00:00,  1.48it/s, loss=0.00258]\n"
          ]
        },
        {
          "metadata": {
            "tags": null
          },
          "name": "stdout",
          "output_type": "stream",
          "text": [
            "Epoch [23/30] completed. Train Loss: 0.0026, Validation Loss: 0.0016\n"
          ]
        },
        {
          "metadata": {
            "tags": null
          },
          "name": "stderr",
          "output_type": "stream",
          "text": [
            "Epoch [24/30]: 100%|██████████| 160/160 [01:47<00:00,  1.48it/s, loss=0.00258]\n"
          ]
        },
        {
          "output_type": "stream",
          "name": "stdout",
          "text": [
            "Epoch [24/30] completed. Train Loss: 0.0026, Validation Loss: 0.0017\n"
          ]
        },
        {
          "output_type": "stream",
          "name": "stderr",
          "text": [
            "Epoch [25/30]: 100%|██████████| 160/160 [01:48<00:00,  1.48it/s, loss=0.00254]\n"
          ]
        },
        {
          "output_type": "stream",
          "name": "stdout",
          "text": [
            "Epoch [25/30] completed. Train Loss: 0.0025, Validation Loss: 0.0017\n"
          ]
        },
        {
          "output_type": "stream",
          "name": "stderr",
          "text": [
            "Epoch [26/30]: 100%|██████████| 160/160 [01:48<00:00,  1.48it/s, loss=0.00245]\n"
          ]
        },
        {
          "output_type": "stream",
          "name": "stdout",
          "text": [
            "Epoch [26/30] completed. Train Loss: 0.0024, Validation Loss: 0.0018\n"
          ]
        },
        {
          "output_type": "stream",
          "name": "stderr",
          "text": [
            "Epoch [27/30]: 100%|██████████| 160/160 [01:48<00:00,  1.48it/s, loss=0.00242]\n"
          ]
        },
        {
          "output_type": "stream",
          "name": "stdout",
          "text": [
            "Epoch [27/30] completed. Train Loss: 0.0024, Validation Loss: 0.0015\n"
          ]
        },
        {
          "output_type": "stream",
          "name": "stderr",
          "text": [
            "Epoch [28/30]: 100%|██████████| 160/160 [01:48<00:00,  1.48it/s, loss=0.00241]\n"
          ]
        },
        {
          "output_type": "stream",
          "name": "stdout",
          "text": [
            "Epoch [28/30] completed. Train Loss: 0.0024, Validation Loss: 0.0016\n"
          ]
        },
        {
          "output_type": "stream",
          "name": "stderr",
          "text": [
            "Epoch [29/30]: 100%|██████████| 160/160 [01:47<00:00,  1.48it/s, loss=0.00231]\n"
          ]
        },
        {
          "output_type": "stream",
          "name": "stdout",
          "text": [
            "Epoch [29/30] completed. Train Loss: 0.0023, Validation Loss: 0.0015\n"
          ]
        },
        {
          "output_type": "stream",
          "name": "stderr",
          "text": [
            "Epoch [30/30]: 100%|██████████| 160/160 [01:47<00:00,  1.48it/s, loss=0.00227]\n"
          ]
        },
        {
          "output_type": "stream",
          "name": "stdout",
          "text": [
            "Epoch [30/30] completed. Train Loss: 0.0023, Validation Loss: 0.0014\n"
          ]
        }
      ],
      "source": [
        "num_epochs = 30\n",
        "for epoch in range(num_epochs):\n",
        "    running_loss = 0.0\n",
        "    progress_bar = tqdm(train_loader, total=len(train_loader), desc=f'Epoch [{epoch+1}/{num_epochs}]')\n",
        "    for inputs, targets in progress_bar:\n",
        "        inputs = inputs.to(device)\n",
        "        targets = targets.to(device)\n",
        "\n",
        "        optimizer.zero_grad()\n",
        "        outputs = model(inputs)\n",
        "        loss = criterion(outputs, targets)\n",
        "        loss.backward()\n",
        "        optimizer.step()\n",
        "\n",
        "        running_loss += loss.item()\n",
        "        progress_bar.set_postfix(loss=running_loss / (progress_bar.n + 1))\n",
        "\n",
        "    train_loss = running_loss / len(train_loader)\n",
        "    val_loss = evaluate_model(model, val_loader, device, criterion)\n",
        "    print(f'Epoch [{epoch+1}/{num_epochs}] completed. Train Loss: {train_loss:.4f}, Validation Loss: {val_loss:.4f}')"
      ]
    },
    {
      "cell_type": "code",
      "execution_count": null,
      "metadata": {
        "id": "ySKguA7lmNzZ",
        "colab": {
          "base_uri": "https://localhost:8080/"
        },
        "outputId": "7481d989-e5a3-4443-8c16-eefa37038f85"
      },
      "outputs": [
        {
          "output_type": "stream",
          "name": "stdout",
          "text": [
            "Test Loss: 0.0023\n"
          ]
        }
      ],
      "source": [
        "test_loss = evaluate_model(model, test_loader, device, criterion)\n",
        "print(f'Test Loss: {test_loss:.4f}')\n",
        "\n",
        "# Save the trained model\n",
        "torch.save(model.state_dict(), '/content/drive/My Drive/Dataset/Model/Model (30 Epoch With Testing and Validation).pth')"
      ]
    },
    {
      "cell_type": "code",
      "execution_count": null,
      "metadata": {
        "id": "Nn1utycBmLSm"
      },
      "outputs": [],
      "source": [
        "import numpy as np\n",
        "def adaptive_threshold(input_image, true_label):\n",
        "    model.eval()\n",
        "    with torch.no_grad():\n",
        "        input_tensor = transform(input_image).unsqueeze(0)  # Added unsqueeze(0)\n",
        "        start_time = time.time()\n",
        "        output = model(input_tensor)\n",
        "        end_time = time.time()\n",
        "        response_time = end_time - start_time\n",
        "        output = torch.sigmoid(output).squeeze().cpu().numpy()\n",
        "        output = (output > 0.5).astype(np.uint8) * 255\n",
        "        predicted_label = np.argmax(output)\n",
        "        return output, response_time, predicted_label"
      ]
    },
    {
      "cell_type": "code",
      "source": [
        "model = UNet(n_channels=3, n_classes=1)"
      ],
      "metadata": {
        "id": "HIrEx6IkXo1a"
      },
      "execution_count": null,
      "outputs": []
    },
    {
      "cell_type": "code",
      "source": [
        "device = torch.device('cuda' if torch.cuda.is_available() else 'cpu')\n",
        "model.load_state_dict(torch.load('/content/drive/My Drive/Dataset/Model/Model (30 Epoch With Testing and Validation).pth', map_location=device))\n",
        "model.eval()"
      ],
      "metadata": {
        "id": "DXsa8ORdYIDK"
      },
      "execution_count": null,
      "outputs": []
    },
    {
      "cell_type": "code",
      "source": [
        "import numpy as np\n",
        "def adaptive_threshold_test(input_image):\n",
        "    model.eval()\n",
        "    with torch.no_grad():\n",
        "        input_tensor = transform(input_image).unsqueeze(0) # Added unsqueeze(0)\n",
        "        output = model(input_tensor)\n",
        "        output = torch.sigmoid(output).squeeze().cpu().numpy()\n",
        "        output = (output > 0.5).astype(np.uint8) * 255\n",
        "        return output"
      ],
      "metadata": {
        "id": "wUoVjUnjnpQI"
      },
      "execution_count": null,
      "outputs": []
    },
    {
      "cell_type": "code",
      "source": [
        "import matplotlib.pyplot as plt\n",
        "import time\n",
        "\n",
        "# Example usage\n",
        "input_image = Image.open('/content/drive/My Drive/Dataset/Raw for Testing/20_0.JPG')\n",
        "true_label = Image.open('/content/drive/My Drive/Dataset/Raw for Testing/20_0.png')\n",
        "output_image, response_time, predicted_label = adaptive_threshold(input_image, true_label)\n",
        "print(f\"Response time: {response_time} seconds\")"
      ],
      "metadata": {
        "id": "BSXh8FZhYSap",
        "colab": {
          "base_uri": "https://localhost:8080/"
        },
        "outputId": "b3e277dd-4671-4b19-f110-f250b3cb6419"
      },
      "execution_count": null,
      "outputs": [
        {
          "output_type": "stream",
          "name": "stdout",
          "text": [
            "Response time: 5.835663795471191 seconds\n"
          ]
        }
      ]
    },
    {
      "cell_type": "code",
      "source": [
        "import matplotlib.pyplot as plt\n",
        "# Example usage\n",
        "input_image = Image.open('/content/drive/My Drive/Dataset/Raw for Testing/20_1.JPG')\n",
        "output_image = adaptive_threshold_test(input_image)\n",
        "plt.imshow(output_image, cmap='gray')\n",
        "plt.show()"
      ],
      "metadata": {
        "id": "z20YBwbCnDk_",
        "colab": {
          "base_uri": "https://localhost:8080/",
          "height": 435
        },
        "outputId": "88bdc6a6-c137-4748-d27d-41895f8f92c2"
      },
      "execution_count": null,
      "outputs": [
        {
          "output_type": "display_data",
          "data": {
            "text/plain": [
              "<Figure size 640x480 with 1 Axes>"
            ],
            "image/png": "[encoded data removed]"
          },
          "metadata": {}
        }
      ]
    },
    {
      "cell_type": "code",
      "source": [
        "# Define the transformation for the test data\n",
        "test_transform = transforms.Compose([\n",
        "    transforms.Resize((500, 500)),\n",
        "    transforms.ToTensor()\n",
        "])"
      ],
      "metadata": {
        "id": "V4AXCFrE0ZAk"
      },
      "execution_count": null,
      "outputs": []
    },
    {
      "cell_type": "code",
      "source": [
        "# Define the pixel accuracy function\n",
        "def pixel_accuracy(output, mask):\n",
        "    with torch.no_grad():\n",
        "        output = torch.argmax(output, dim=1)\n",
        "        correct = torch.eq(output, mask).int()\n",
        "        accuracy = float(correct.sum()) / float(correct.numel())\n",
        "    return accuracy\n",
        "\n",
        "# Assuming you have a trained model named 'model'\n",
        "model = model.to(device)  # Move the model to the GPU\n",
        "model.eval()  # Set the model to evaluation mode\n",
        "accuracies = []\n",
        "\n",
        "for images, masks in test_dataset:\n",
        "    images = images.unsqueeze(0).to(device)  # Add an extra dimension for the batch size\n",
        "    masks = masks.to(device)\n",
        "    output = model(images)\n",
        "    accuracy = pixel_accuracy(output, masks)\n",
        "    accuracies.append(accuracy)\n",
        "\n",
        "average_accuracy = sum(accuracies) / len(accuracies)\n",
        "print(f'Pixel accuracy on test dataset: {average_accuracy}')"
      ],
      "metadata": {
        "id": "6ZtbYS8dxcMx",
        "colab": {
          "base_uri": "https://localhost:8080/"
        },
        "outputId": "648f4fc5-2290-4d34-840e-45e6a76a0f11"
      },
      "execution_count": null,
      "outputs": [
        {
          "output_type": "stream",
          "name": "stdout",
          "text": [
            "Pixel accuracy on test dataset: 0.9046261799999996\n"
          ]
        }
      ]
    },
    {
      "cell_type": "code",
      "source": [
        "# Modified adaptive_threshold_test function\n",
        "def adaptive_threshold_test_1(input_image, ground_truth_mask):\n",
        "    with torch.no_grad():\n",
        "        input_tensor = test_transform(input_image).unsqueeze(0).to(device)  # Move the input tensor to the GPU\n",
        "        target_tensor = test_transform(ground_truth_mask).unsqueeze(0).to(device)  # Move the target tensor to the GPU\n",
        "\n",
        "        output = model(input_tensor)\n",
        "\n",
        "        return output, target_tensor\n",
        "\n",
        "input_image = Image.open('/content/drive/My Drive/Dataset/Raw for Testing/20_1.JPG')\n",
        "ground_truth_mask = Image.open('/content/drive/My Drive/Dataset/Raw for Testing/20_1.png')\n",
        "\n",
        "output, target = adaptive_threshold_test_1(input_image, ground_truth_mask)\n",
        "accuracy = pixel_accuracy(output, target)\n",
        "\n",
        "print(f\"Pixel Accuracy: {accuracy:.4f}\")"
      ],
      "metadata": {
        "id": "ZsYGNfNdzubv",
        "colab": {
          "base_uri": "https://localhost:8080/"
        },
        "outputId": "ef945b99-4026-4893-b1a5-25b5274676d2"
      },
      "execution_count": null,
      "outputs": [
        {
          "output_type": "stream",
          "name": "stdout",
          "text": [
            "Pixel Accuracy: 0.8693\n"
          ]
        }
      ]
    }
  ],
  "metadata": {
    "colab": {
      "provenance": [],
      "gpuType": "T4"
    },
    "kernelspec": {
      "display_name": "Python 3",
      "name": "python3"
    },
    "language_info": {
      "name": "python"
    },
    "accelerator": "GPU"
  },
  "nbformat": 4,
  "nbformat_minor": 0
}